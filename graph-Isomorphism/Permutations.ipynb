{
 "cells": [
  {
   "cell_type": "markdown",
   "id": "44f9da06",
   "metadata": {},
   "source": [
    "<h2>Permutations</h2>\n"
   ]
  },
  {
   "cell_type": "markdown",
   "id": "25ae8763",
   "metadata": {},
   "source": [
    "<h2> Graph Isomorphism defined </h2>"
   ]
  },
  {
   "cell_type": "markdown",
   "id": "60774502",
   "metadata": {},
   "source": [
    "\n",
    "The term “isomorphic” is applied to two graphs when they are a “bijection that preserves adjacency”. This means that the number of components (vertices and edges) are the same and their edge connectivity is relatively the same. In the following example below, we will explain in detail what this means. \n",
    "\n",
    "\n",
    "\n",
    "\n"
   ]
  },
  {
   "cell_type": "markdown",
   "id": "45e85e53",
   "metadata": {},
   "source": [
    "<h1>Specification</h1>"
   ]
  },
  {
   "attachments": {
    "Picture1.jpg": {
     "image/jpeg": "[encoded data removed]"
    }
   },
   "cell_type": "markdown",
   "id": "b5e66a3c",
   "metadata": {},
   "source": [
    "![Picture1.jpg](attachment:Picture1.jpg)\n",
    "In the diagram above there are two graphs, G (the star) and G1(the pentagon). While they appear to look different, they’re the same in terms of isomorphism. First thing to point out is whether or not they have the same number of vertices (black dots) and edges(lines), in this case, they do with five vertices and five edges. The next the thing to point out is the degree of the vertices. The degree of a vertex is the number of edges attached to each vertices. We have two degrees for each vertices in both diagrams where v1 in G for example, has two edges connected to v4 and v3. V1 in G1 also has two edges connected to v4 and v2."
   ]
  },
  {
   "attachments": {
    "Picture2.png": {
     "image/png": "[encoded data removed]"
    }
   },
   "cell_type": "markdown",
   "id": "690d8b16",
   "metadata": {},
   "source": [
    "![Picture2.png](attachment:Picture2.png)\n",
    "Now suppose we were to look at a graph that isn’t isomorphic like the one below. G1 (the crown) and G2 (pentagon) aren’t isomorphic because the number of edges are different. Although they have the same number of vertices, it still doesn’t make it isomorphic. In G2, v2 has two edges connected to v3 and v1 while in G1, v2 has three edges connected to v1, v3 and v5.\n",
    "\n",
    "This overall proves how the graphs can be the same in terms of isomorphism because it’s a bijection that preserves adjacency.\n",
    "\n",
    "Sources:\n",
    "https://www.youtube.com/watch?v=rOTXqBBMFxc\n",
    "https://mathworld.wolfram.com/IsomorphicGraphs.html#:~:text=Two%20graphs%20which%20contain%20the,the%20set%20of%20graph%20edges%20.\n",
    "https://calcworkshop.com/trees-graphs/isomorphic-graph/\n",
    "https://www.tutorialspoint.com/graph_theory/graph_theory_isomorphism.htm\n",
    "\n",
    "images:\n",
    "https://www.google.com/url?sa=i&url=https%3A%2F%2Ftex.stackexchange.com%2Fquestions%2F478689%2Fhow-to-draw-animated-isomorphic-graphs&psig=AOvVaw3Ricep8lQ49AgxMmDNC_Vy&ust=1651787482770000&source=images&cd=vfe&ved=0CA0QjhxqFwoTCMi-oq3qxvcCFQAAAAAdAAAAABAD\n",
    "https://www.google.com/url?sa=i&url=https%3A%2F%2Fwww.researchgate.net%2Ffigure%2FTwo-non-isomorphic-graphs-each-with-five-vertices-Note-that-both-graphs-have-two_fig6_49804992&psig=AOvVaw3zxqb9_x94s8cXofjl0VhE&ust=1651787580539000&source=images&cd=vfe&ved=0CA0QjhxqFwoTCMC_xLnqxvcCFQAAAAAdAAAAABAD"
   ]
  },
  {
   "cell_type": "code",
   "execution_count": 20,
   "id": "2301b8bf",
   "metadata": {},
   "outputs": [],
   "source": [
    "# A list of five (distinct) elements\n",
    "L = [1,2,3,4,5]"
   ]
  },
  {
   "cell_type": "code",
   "execution_count": 5,
   "id": "40662d82",
   "metadata": {},
   "outputs": [],
   "source": [
    "# A permutation of the list L.\n",
    "M = [2,1,3,4,5]"
   ]
  },
  {
   "cell_type": "code",
   "execution_count": 6,
   "id": "016da6f9",
   "metadata": {},
   "outputs": [],
   "source": [
    "# Another permutation\n",
    "N = [5,2,1,3,5]"
   ]
  },
  {
   "cell_type": "code",
   "execution_count": 21,
   "id": "f3940f58",
   "metadata": {},
   "outputs": [
    {
     "name": "stdout",
     "output_type": "stream",
     "text": [
      "(1, 2, 3, 4, 5)\n",
      "(1, 2, 3, 5, 4)\n",
      "(1, 2, 4, 3, 5)\n",
      "(1, 2, 4, 5, 3)\n",
      "(1, 2, 5, 3, 4)\n",
      "(1, 2, 5, 4, 3)\n",
      "(1, 3, 2, 4, 5)\n",
      "(1, 3, 2, 5, 4)\n",
      "(1, 3, 4, 2, 5)\n",
      "(1, 3, 4, 5, 2)\n",
      "(1, 3, 5, 2, 4)\n",
      "(1, 3, 5, 4, 2)\n",
      "(1, 4, 2, 3, 5)\n",
      "(1, 4, 2, 5, 3)\n",
      "(1, 4, 3, 2, 5)\n",
      "(1, 4, 3, 5, 2)\n",
      "(1, 4, 5, 2, 3)\n",
      "(1, 4, 5, 3, 2)\n",
      "(1, 5, 2, 3, 4)\n",
      "(1, 5, 2, 4, 3)\n",
      "(1, 5, 3, 2, 4)\n",
      "(1, 5, 3, 4, 2)\n",
      "(1, 5, 4, 2, 3)\n",
      "(1, 5, 4, 3, 2)\n",
      "(2, 1, 3, 4, 5)\n",
      "(2, 1, 3, 5, 4)\n",
      "(2, 1, 4, 3, 5)\n",
      "(2, 1, 4, 5, 3)\n",
      "(2, 1, 5, 3, 4)\n",
      "(2, 1, 5, 4, 3)\n",
      "(2, 3, 1, 4, 5)\n",
      "(2, 3, 1, 5, 4)\n",
      "(2, 3, 4, 1, 5)\n",
      "(2, 3, 4, 5, 1)\n",
      "(2, 3, 5, 1, 4)\n",
      "(2, 3, 5, 4, 1)\n",
      "(2, 4, 1, 3, 5)\n",
      "(2, 4, 1, 5, 3)\n",
      "(2, 4, 3, 1, 5)\n",
      "(2, 4, 3, 5, 1)\n",
      "(2, 4, 5, 1, 3)\n",
      "(2, 4, 5, 3, 1)\n",
      "(2, 5, 1, 3, 4)\n",
      "(2, 5, 1, 4, 3)\n",
      "(2, 5, 3, 1, 4)\n",
      "(2, 5, 3, 4, 1)\n",
      "(2, 5, 4, 1, 3)\n",
      "(2, 5, 4, 3, 1)\n",
      "(3, 1, 2, 4, 5)\n",
      "(3, 1, 2, 5, 4)\n",
      "(3, 1, 4, 2, 5)\n",
      "(3, 1, 4, 5, 2)\n",
      "(3, 1, 5, 2, 4)\n",
      "(3, 1, 5, 4, 2)\n",
      "(3, 2, 1, 4, 5)\n",
      "(3, 2, 1, 5, 4)\n",
      "(3, 2, 4, 1, 5)\n",
      "(3, 2, 4, 5, 1)\n",
      "(3, 2, 5, 1, 4)\n",
      "(3, 2, 5, 4, 1)\n",
      "(3, 4, 1, 2, 5)\n",
      "(3, 4, 1, 5, 2)\n",
      "(3, 4, 2, 1, 5)\n",
      "(3, 4, 2, 5, 1)\n",
      "(3, 4, 5, 1, 2)\n",
      "(3, 4, 5, 2, 1)\n",
      "(3, 5, 1, 2, 4)\n",
      "(3, 5, 1, 4, 2)\n",
      "(3, 5, 2, 1, 4)\n",
      "(3, 5, 2, 4, 1)\n",
      "(3, 5, 4, 1, 2)\n",
      "(3, 5, 4, 2, 1)\n",
      "(4, 1, 2, 3, 5)\n",
      "(4, 1, 2, 5, 3)\n",
      "(4, 1, 3, 2, 5)\n",
      "(4, 1, 3, 5, 2)\n",
      "(4, 1, 5, 2, 3)\n",
      "(4, 1, 5, 3, 2)\n",
      "(4, 2, 1, 3, 5)\n",
      "(4, 2, 1, 5, 3)\n",
      "(4, 2, 3, 1, 5)\n",
      "(4, 2, 3, 5, 1)\n",
      "(4, 2, 5, 1, 3)\n",
      "(4, 2, 5, 3, 1)\n",
      "(4, 3, 1, 2, 5)\n",
      "(4, 3, 1, 5, 2)\n",
      "(4, 3, 2, 1, 5)\n",
      "(4, 3, 2, 5, 1)\n",
      "(4, 3, 5, 1, 2)\n",
      "(4, 3, 5, 2, 1)\n",
      "(4, 5, 1, 2, 3)\n",
      "(4, 5, 1, 3, 2)\n",
      "(4, 5, 2, 1, 3)\n",
      "(4, 5, 2, 3, 1)\n",
      "(4, 5, 3, 1, 2)\n",
      "(4, 5, 3, 2, 1)\n",
      "(5, 1, 2, 3, 4)\n",
      "(5, 1, 2, 4, 3)\n",
      "(5, 1, 3, 2, 4)\n",
      "(5, 1, 3, 4, 2)\n",
      "(5, 1, 4, 2, 3)\n",
      "(5, 1, 4, 3, 2)\n",
      "(5, 2, 1, 3, 4)\n",
      "(5, 2, 1, 4, 3)\n",
      "(5, 2, 3, 1, 4)\n",
      "(5, 2, 3, 4, 1)\n",
      "(5, 2, 4, 1, 3)\n",
      "(5, 2, 4, 3, 1)\n",
      "(5, 3, 1, 2, 4)\n",
      "(5, 3, 1, 4, 2)\n",
      "(5, 3, 2, 1, 4)\n",
      "(5, 3, 2, 4, 1)\n",
      "(5, 3, 4, 1, 2)\n",
      "(5, 3, 4, 2, 1)\n",
      "(5, 4, 1, 2, 3)\n",
      "(5, 4, 1, 3, 2)\n",
      "(5, 4, 2, 1, 3)\n",
      "(5, 4, 2, 3, 1)\n",
      "(5, 4, 3, 1, 2)\n",
      "(5, 4, 3, 2, 1)\n"
     ]
    }
   ],
   "source": [
    "# All permutations of that list.\n",
    "# Note that it.permutations returns a generator.\n",
    "# The number of permutations grows very fast compared to the length of the list.\n",
    "perms = it.permutations(L)\n",
    "# Print the permutations.\n",
    "for perm in perms:\n",
    "  print(perm)"
   ]
  },
  {
   "cell_type": "code",
   "execution_count": null,
   "id": "93872f00",
   "metadata": {},
   "outputs": [],
   "source": []
  },
  {
   "cell_type": "markdown",
   "id": "a8287978",
   "metadata": {},
   "source": [
    "<h2>How many permutations are there?</h2>"
   ]
  },
  {
   "cell_type": "code",
   "execution_count": 28,
   "id": "f5f787f0",
   "metadata": {},
   "outputs": [
    {
     "data": {
      "text/plain": [
       "120"
      ]
     },
     "execution_count": 28,
     "metadata": {},
     "output_type": "execute_result"
    }
   ],
   "source": [
    "# suppose we have five blank spaces in which to put the elements of L.\n",
    "#\n",
    "# In the frst position, we can put any of the five elements\n",
    "# e.g. 3 _ _ _ _\n",
    "# if we put 3 in the first position, then we have four elements remaining\n",
    "# to choose from for the second position.\n",
    "# e.g 3 5 _ _ _\n",
    "# Then we have three elements left, and so on.\n",
    "# so, there are five choices for the first position.\n",
    "# for each of those choices there are three choices for each of those.\n",
    "# and so on.\n",
    "#\n",
    "# number of permutations\n",
    "5*4*3*2*1"
   ]
  },
  {
   "cell_type": "code",
   "execution_count": 27,
   "id": "38cb4a72",
   "metadata": {},
   "outputs": [
    {
     "data": {
      "text/plain": [
       "720"
      ]
     },
     "execution_count": 27,
     "metadata": {},
     "output_type": "execute_result"
    }
   ],
   "source": [
    "# number of permutations of 6 elements\n",
    "6*5*4*3*2*1"
   ]
  },
  {
   "cell_type": "code",
   "execution_count": 2,
   "id": "c1562848",
   "metadata": {},
   "outputs": [
    {
     "data": {
      "text/plain": [
       "3628800"
      ]
     },
     "execution_count": 2,
     "metadata": {},
     "output_type": "execute_result"
    }
   ],
   "source": [
    "# The number of permutations grows a n factorial as the length of a list of length n grows\n",
    "import math\n",
    "\n",
    "# for ten elements\n",
    "math.factorial(10)"
   ]
  },
  {
   "cell_type": "code",
   "execution_count": 3,
   "id": "5589aef0",
   "metadata": {},
   "outputs": [
    {
     "data": {
      "text/plain": [
       "93326215443944152681699238856266700490715968264381621468592963895217599993229915608941463976156518286253697920827223758251185210916864000000000000000000000000"
      ]
     },
     "execution_count": 3,
     "metadata": {},
     "output_type": "execute_result"
    }
   ],
   "source": [
    "# for one hundred elements\n",
    "math.factorial(100)"
   ]
  },
  {
   "cell_type": "code",
   "execution_count": 11,
   "id": "f29396d5",
   "metadata": {},
   "outputs": [
    {
     "data": {
      "image/png": "[encoded data removed]",
      "text/plain": [
       "<Figure size 1008x432 with 1 Axes>"
      ]
     },
     "metadata": {
      "needs_background": "light"
     },
     "output_type": "display_data"
    }
   ],
   "source": [
    "# A picture of the factorial function for perspective\n",
    "import matplotlib.pyplot as plt\n",
    "import numpy as np\n",
    "import scipy.special as sm\n",
    "\n",
    "plt.rcParams['figure.figsize'] = (14, 6)\n",
    "\n",
    "x = np.linspace(1.0, 10.0, 1000)\n",
    "y0 = 3*x\n",
    "y1 = x**3\n",
    "y2 = 3**x\n",
    "y3 = sm.factorial(x)\n",
    "\n",
    "plt.plot(x, y0, label='$3x$')\n",
    "plt.plot(x, y1, label='$x^3$')\n",
    "plt.plot(x, y2, label='$3^x$')\n",
    "plt.plot(x, y3, label='$x!$')\n",
    "\n",
    "plt.legend()\n",
    "plt.show()"
   ]
  },
  {
   "cell_type": "markdown",
   "id": "4404c534",
   "metadata": {},
   "source": [
    "<h2>What algorithms are there to generate permutations?</h2>"
   ]
  },
  {
   "cell_type": "code",
   "execution_count": 13,
   "id": "59ed2da8",
   "metadata": {},
   "outputs": [
    {
     "data": {
      "text/plain": [
       "[3, 2, 1]"
      ]
     },
     "execution_count": 13,
     "metadata": {},
     "output_type": "execute_result"
    }
   ],
   "source": [
    "# all the possible permutations of three elements.\n",
    "[1,2,3]\n",
    "[1,3,2]\n",
    "[2,1,3]\n",
    "[2,3,1]\n",
    "[3,2,1]"
   ]
  },
  {
   "cell_type": "code",
   "execution_count": 14,
   "id": "1fc835f7",
   "metadata": {},
   "outputs": [
    {
     "data": {
      "text/plain": [
       "[2, 1]"
      ]
     },
     "execution_count": 14,
     "metadata": {},
     "output_type": "execute_result"
    }
   ],
   "source": [
    "# all the possible permutations of two elements.\n",
    "[1,2]\n",
    "[2,1]"
   ]
  },
  {
   "cell_type": "markdown",
   "id": "5a95762b",
   "metadata": {},
   "source": [
    "<h2>itertools</h2>"
   ]
  },
  {
   "cell_type": "code",
   "execution_count": 16,
   "id": "6841ff5b",
   "metadata": {},
   "outputs": [],
   "source": [
    "# from the python standard library.\n",
    "import itertools as it"
   ]
  },
  {
   "cell_type": "code",
   "execution_count": 23,
   "id": "63d3f904",
   "metadata": {},
   "outputs": [
    {
     "name": "stdout",
     "output_type": "stream",
     "text": [
      "(1, 2, 3)\n",
      "(1, 3, 2)\n",
      "(2, 1, 3)\n",
      "(2, 3, 1)\n",
      "(3, 1, 2)\n",
      "(3, 2, 1)\n"
     ]
    }
   ],
   "source": [
    "# all permutations of the list [1,2,3].\n",
    "for p in it.permutations([1,2,3]):\n",
    "    print(p)\n"
   ]
  },
  {
   "cell_type": "code",
   "execution_count": 26,
   "id": "3c77cfc3",
   "metadata": {},
   "outputs": [
    {
     "name": "stdout",
     "output_type": "stream",
     "text": [
      "(1, 2, 3, 4, 5, 6, 7)\n"
     ]
    }
   ],
   "source": [
    "# all permutations of the list [1,2,3].\n",
    "for p in it.permutations([7,2,1,6,4,5,3]):\n",
    "    # check if permutation is sorted\n",
    "    if p[0] <= p[1] and p[1] <= p[2] and p[2] <= p[3] and p[3] <= p[4] and p[4] <= p[5] and p[5] <= p[6]: \n",
    "      # print the permutation\n",
    "      print(p)"
   ]
  },
  {
   "cell_type": "code",
   "execution_count": 1,
   "id": "a5b6629c",
   "metadata": {},
   "outputs": [],
   "source": [
    "# Plots.\n",
    "import matplotlib.pyplot as plt"
   ]
  },
  {
   "cell_type": "code",
   "execution_count": 2,
   "id": "dcf889f7",
   "metadata": {},
   "outputs": [],
   "source": [
    "# resize plots\n",
    "plt.rcParams['figure.figsize'] = (6, 6)"
   ]
  },
  {
   "cell_type": "code",
   "execution_count": 3,
   "id": "8b85d2b9",
   "metadata": {},
   "outputs": [],
   "source": [
    "# matrices\n",
    "import numpy as np"
   ]
  },
  {
   "cell_type": "code",
   "execution_count": 4,
   "id": "12b6e995",
   "metadata": {},
   "outputs": [],
   "source": [
    "#permutations\n",
    "import itertools as it"
   ]
  },
  {
   "cell_type": "code",
   "execution_count": 5,
   "id": "e40a76a0",
   "metadata": {},
   "outputs": [],
   "source": [
    "#graphs\n",
    "import networkx as nx"
   ]
  },
  {
   "cell_type": "code",
   "execution_count": 6,
   "id": "f5d64430",
   "metadata": {},
   "outputs": [],
   "source": [
    "#math\n",
    "import math"
   ]
  },
  {
   "cell_type": "code",
   "execution_count": 7,
   "id": "d5485297",
   "metadata": {},
   "outputs": [],
   "source": [
    "# Networkx drawing parameters.\n",
    "params = {'node_color': 'lightskyblue', 'node_size': 800, 'font_size': 18, 'with_labels': True}"
   ]
  },
  {
   "cell_type": "code",
   "execution_count": 8,
   "id": "601e78d1",
   "metadata": {},
   "outputs": [],
   "source": [
    "# Create an empty graph.\n",
    "G = nx.Graph()"
   ]
  },
  {
   "cell_type": "code",
   "execution_count": 9,
   "id": "0bdbdceb",
   "metadata": {},
   "outputs": [],
   "source": [
    "# Create a set of edges.\n",
    "# Note that ideally this would be written as {{0, 1}, {1, 2}, {0, 2}}.\n",
    "# E should be a set of two-subsets of a finite set V (which is defined implicitly from E).\n",
    "E = ((0, 1), (1, 2), (0, 2))"
   ]
  },
  {
   "cell_type": "code",
   "execution_count": 10,
   "id": "0168ba72",
   "metadata": {},
   "outputs": [],
   "source": [
    "# Incorporate the edges in G.\n",
    "# The nodes are just created as needed, based on E.\n",
    "G.add_edges_from(E)"
   ]
  },
  {
   "cell_type": "code",
   "execution_count": 11,
   "id": "66a86154",
   "metadata": {},
   "outputs": [
    {
     "data": {
      "image/png": "[encoded data removed]",
      "text/plain": [
       "<Figure size 432x432 with 1 Axes>"
      ]
     },
     "metadata": {},
     "output_type": "display_data"
    }
   ],
   "source": [
    "# Draw G.\n",
    "nx.draw_circular(G, **params)"
   ]
  },
  {
   "cell_type": "markdown",
   "id": "8880f06d",
   "metadata": {},
   "source": [
    "<h1> Adjacency Matrices </h1>"
   ]
  },
  {
   "cell_type": "code",
   "execution_count": 12,
   "id": "dcd9066d",
   "metadata": {},
   "outputs": [
    {
     "name": "stdout",
     "output_type": "stream",
     "text": [
      "[[0. 1. 1.]\n",
      " [1. 0. 1.]\n",
      " [1. 1. 0.]]\n"
     ]
    }
   ],
   "source": [
    "# The adjacency matrix of G.\n",
    "print(nx.to_numpy_array(G))"
   ]
  },
  {
   "cell_type": "code",
   "execution_count": 13,
   "id": "00feda56",
   "metadata": {},
   "outputs": [
    {
     "name": "stdout",
     "output_type": "stream",
     "text": [
      "[[0 1 1]\n",
      " [1 0 1]\n",
      " [1 1 0]]\n"
     ]
    }
   ],
   "source": [
    "# Convert it to unsigned 8 bit integers (for no good reason).\n",
    "A = nx.to_numpy_array(G).astype(np.uint8)\n",
    "print(A)"
   ]
  },
  {
   "cell_type": "code",
   "execution_count": 14,
   "id": "a1795ce0",
   "metadata": {},
   "outputs": [
    {
     "name": "stdout",
     "output_type": "stream",
     "text": [
      "[[0 1 1]\n",
      " [1 0 1]\n",
      " [1 1 0]]\n"
     ]
    }
   ],
   "source": [
    "# The transpose of A.\n",
    "print(A.T)"
   ]
  },
  {
   "cell_type": "code",
   "execution_count": 15,
   "id": "6c6e328d",
   "metadata": {},
   "outputs": [
    {
     "name": "stdout",
     "output_type": "stream",
     "text": [
      "[[ True  True  True]\n",
      " [ True  True  True]\n",
      " [ True  True  True]]\n"
     ]
    }
   ],
   "source": [
    "# All entries of A and its transpose are the same.\n",
    "print(A.T == A)"
   ]
  },
  {
   "cell_type": "code",
   "execution_count": 16,
   "id": "b96edc8b",
   "metadata": {},
   "outputs": [
    {
     "data": {
      "text/plain": [
       "True"
      ]
     },
     "execution_count": 16,
     "metadata": {},
     "output_type": "execute_result"
    }
   ],
   "source": [
    "# all() checks they're all True.\n",
    "(A.T == A).all()"
   ]
  },
  {
   "cell_type": "code",
   "execution_count": 17,
   "id": "b2cbc413",
   "metadata": {},
   "outputs": [],
   "source": [
    "# A slightly cleaner way to print (binary) matrices.\n",
    "def matrix_print(A):\n",
    "  # Loop through rows of A.\n",
    "  for r in A:\n",
    "    # Print the current row, removing the brackets numpy puts in.\n",
    "    print(str(r)[1:-1])\n",
    "  # Print a blank line.\n",
    "  print()"
   ]
  },
  {
   "cell_type": "code",
   "execution_count": 18,
   "id": "6b4137d0",
   "metadata": {},
   "outputs": [
    {
     "name": "stdout",
     "output_type": "stream",
     "text": [
      "0 1 1\n",
      "1 0 1\n",
      "1 1 0\n",
      "\n"
     ]
    }
   ],
   "source": [
    "# Example.\n",
    "matrix_print(A)"
   ]
  },
  {
   "cell_type": "markdown",
   "id": "b8cf0aa4",
   "metadata": {},
   "source": [
    "<h1>Matrix Multiplication </h1>"
   ]
  },
  {
   "cell_type": "code",
   "execution_count": 22,
   "id": "131b6d61",
   "metadata": {},
   "outputs": [
    {
     "name": "stdout",
     "output_type": "stream",
     "text": [
      "1 2\n",
      "3 4\n",
      "\n"
     ]
    }
   ],
   "source": [
    "# A matrix for keeping track of operations.\n",
    "A = np.array([[1, 2], [3, 4]], dtype=np.uint8)\n",
    "matrix_print(A)"
   ]
  },
  {
   "cell_type": "code",
   "execution_count": 23,
   "id": "40c7b31e",
   "metadata": {},
   "outputs": [
    {
     "name": "stdout",
     "output_type": "stream",
     "text": [
      "1 0\n",
      "0 1\n",
      "\n"
     ]
    }
   ],
   "source": [
    "# The identity matrix of size two - two rows and two columns.\n",
    "I = np.identity(2, dtype=np.uint8)\n",
    "# Exactly one 1 in each row and each column, zeros otherwise.\n",
    "matrix_print(I)"
   ]
  },
  {
   "cell_type": "code",
   "execution_count": 24,
   "id": "a1316d3b",
   "metadata": {},
   "outputs": [
    {
     "name": "stdout",
     "output_type": "stream",
     "text": [
      "1 0\n",
      "0 4\n",
      "\n"
     ]
    }
   ],
   "source": [
    "# This does pointwise multiplication in numpy.\n",
    "matrix_print(A * I) "
   ]
  },
  {
   "cell_type": "code",
   "execution_count": 25,
   "id": "e3e60110",
   "metadata": {},
   "outputs": [
    {
     "name": "stdout",
     "output_type": "stream",
     "text": [
      "1 2\n",
      "3 4\n",
      "\n"
     ]
    }
   ],
   "source": [
    "# This does the usual matrix multiplication.\n",
    "matrix_print(A @ I) "
   ]
  },
  {
   "cell_type": "code",
   "execution_count": 26,
   "id": "7f61012c",
   "metadata": {},
   "outputs": [
    {
     "name": "stdout",
     "output_type": "stream",
     "text": [
      "1 2\n",
      "3 4\n",
      "\n"
     ]
    }
   ],
   "source": [
    "# The identity matrix leaves A unchanged.\n",
    "matrix_print(I @ A) "
   ]
  },
  {
   "cell_type": "code",
   "execution_count": 27,
   "id": "2daf9285",
   "metadata": {},
   "outputs": [
    {
     "data": {
      "text/plain": [
       "True"
      ]
     },
     "execution_count": 27,
     "metadata": {},
     "output_type": "execute_result"
    }
   ],
   "source": [
    "# It also commutes, meaning I @ A == A @ I.\n",
    "np.all(I @ A == A @ I)"
   ]
  },
  {
   "cell_type": "code",
   "execution_count": 28,
   "id": "f500e214",
   "metadata": {},
   "outputs": [
    {
     "name": "stdout",
     "output_type": "stream",
     "text": [
      "0 1\n",
      "1 0\n",
      "\n"
     ]
    }
   ],
   "source": [
    "# The only other permutation matrix of size 2.\n",
    "P = np.array([[0, 1], [1, 0]], dtype=np.uint8)\n",
    "matrix_print(P)"
   ]
  },
  {
   "cell_type": "code",
   "execution_count": 29,
   "id": "a7f62165",
   "metadata": {},
   "outputs": [
    {
     "name": "stdout",
     "output_type": "stream",
     "text": [
      "2 1\n",
      "4 3\n",
      "\n"
     ]
    }
   ],
   "source": [
    "# Permute the columns of A.\n",
    "matrix_print(A @ P)"
   ]
  },
  {
   "cell_type": "code",
   "execution_count": 30,
   "id": "a8a977fc",
   "metadata": {},
   "outputs": [
    {
     "name": "stdout",
     "output_type": "stream",
     "text": [
      "1 2\n",
      "3 4\n",
      "\n"
     ]
    }
   ],
   "source": [
    "# Compare to A.\n",
    "matrix_print(A)"
   ]
  },
  {
   "cell_type": "code",
   "execution_count": 31,
   "id": "fca35d53",
   "metadata": {},
   "outputs": [
    {
     "name": "stdout",
     "output_type": "stream",
     "text": [
      "3 4\n",
      "1 2\n",
      "\n"
     ]
    }
   ],
   "source": [
    "# Permute the rows of A.\n",
    "matrix_print(P @ A)"
   ]
  },
  {
   "cell_type": "code",
   "execution_count": 32,
   "id": "8f953981",
   "metadata": {},
   "outputs": [
    {
     "name": "stdout",
     "output_type": "stream",
     "text": [
      "0 1\n",
      "1 0\n",
      "\n"
     ]
    }
   ],
   "source": [
    "# The transpose of P (interchange rows and columns).\n",
    "matrix_print(P.T)"
   ]
  },
  {
   "cell_type": "code",
   "execution_count": 33,
   "id": "9abdfab4",
   "metadata": {},
   "outputs": [
    {
     "data": {
      "text/plain": [
       "True"
      ]
     },
     "execution_count": 33,
     "metadata": {},
     "output_type": "execute_result"
    }
   ],
   "source": [
    "# P and P.T happen to be equal here.\n",
    "np.all(P == P.T)"
   ]
  },
  {
   "cell_type": "code",
   "execution_count": 34,
   "id": "4205601d",
   "metadata": {},
   "outputs": [
    {
     "name": "stdout",
     "output_type": "stream",
     "text": [
      "1 0 0\n",
      "0 1 0\n",
      "0 0 1\n",
      "\n"
     ]
    }
   ],
   "source": [
    "# Size three.\n",
    "I = np.identity(3, dtype=np.uint8)\n",
    "matrix_print(I)"
   ]
  },
  {
   "cell_type": "code",
   "execution_count": 35,
   "id": "3d4e237e",
   "metadata": {},
   "outputs": [
    {
     "name": "stdout",
     "output_type": "stream",
     "text": [
      "0 1 0\n",
      "1 0 0\n",
      "0 0 1\n",
      "\n"
     ]
    }
   ],
   "source": [
    "# Using a list for array indexing in numpy.\n",
    "# Handy for creating permutation matrices.\n",
    "# Permutation matrices are always row/column permutations of the identity matrix.\n",
    "P = I[[1, 0, 2]]\n",
    "matrix_print(P)"
   ]
  },
  {
   "cell_type": "markdown",
   "id": "cf78c530",
   "metadata": {},
   "source": [
    "<h1>why computer scientists are interested in complexity of isomorphism</h1>"
   ]
  },
  {
   "attachments": {
    "Picture3.png": {
     "image/png": "[encoded data removed]"
    }
   },
   "cell_type": "markdown",
   "id": "1cddd3bc",
   "metadata": {},
   "source": [
    "\n",
    "\n",
    "                                                        Time/space\n",
    "the reason computer scientists are interested n complexity of isomorphism is because the time and space complexity of permutation is 0(n). The reason for this is because there are N possible permutations in a length of N. In the code snippet below this is further explained.\n",
    "\n",
    "![Picture3.png](attachment:Picture3.png)\n",
    "The code shown below demonstrates an adjacency matrix. There are 9 different numbers (space complexity) that can be arranged in 9 possible ways. When the code goes through the array A, it iterates 9 times (time complexity) to find the number. When the number is found, it is taken out of the array and put into the function matrix_print(A) which will print out the numbers in a three-by-three format. This process is repeated until all the numbers are out of array A and in function matrix_print(A). This ties into the reason at the start, there are 9 possible permutations in a length of 9.\n",
    "\n",
    "This explains why permutation has a space and time complexity of 0(n) and why computer scientists are interested in complexity of isomorphism.\n",
    "\n",
    " \n",
    " \n",
    "\n",
    "\n",
    "\n",
    "\n",
    "Sources\n",
    "https://learnersbucket.com/examples/algorithms/program-to-print-all-the-permutation-of-string/\n",
    "https://adrianmejia.com/most-popular-algorithms-time-complexity-every-programmer-should-know-free-online-tutorial-course/\n",
    "\n",
    "images\n",
    "https://www.google.com/url?sa=i&url=https%3A%2F%2Fwww.hackerearth.com%2Fpractice%2Fnotes%2Fbig-o-cheatsheet-series-data-structures-and-algorithms-with-thier-complexities-1%2F&psig=AOvVaw3VQmeFXhnrkEJC13KdaOOf&ust=1652113402671000&source=images&cd=vfe&ved=0CA0QjhxqFwoTCJC646Co0PcCFQAAAAAdAAAAABAD\n"
   ]
  },
  {
   "cell_type": "code",
   "execution_count": 36,
   "id": "8f586ad9",
   "metadata": {},
   "outputs": [
    {
     "name": "stdout",
     "output_type": "stream",
     "text": [
      "1 2 3\n",
      "4 5 6\n",
      "7 8 9\n",
      "\n"
     ]
    }
   ],
   "source": [
    "# Here is a 3x3 version of A.\n",
    "A = np.array([[1, 2, 3], [4, 5, 6], [7, 8, 9]], dtype=np.uint8)\n",
    "matrix_print(A)"
   ]
  },
  {
   "cell_type": "code",
   "execution_count": 37,
   "id": "9633cffc",
   "metadata": {},
   "outputs": [
    {
     "name": "stdout",
     "output_type": "stream",
     "text": [
      "2 1 3\n",
      "5 4 6\n",
      "8 7 9\n",
      "\n"
     ]
    }
   ],
   "source": [
    "# Permute columns using P.\n",
    "matrix_print(A @ P)"
   ]
  },
  {
   "cell_type": "code",
   "execution_count": 38,
   "id": "f35890b2",
   "metadata": {},
   "outputs": [
    {
     "name": "stdout",
     "output_type": "stream",
     "text": [
      "4 5 6\n",
      "1 2 3\n",
      "7 8 9\n",
      "\n"
     ]
    }
   ],
   "source": [
    "# Permute rows using P.\n",
    "matrix_print(P @ A)"
   ]
  },
  {
   "cell_type": "code",
   "execution_count": 39,
   "id": "d5e6469f",
   "metadata": {},
   "outputs": [
    {
     "data": {
      "text/plain": [
       "True"
      ]
     },
     "execution_count": 39,
     "metadata": {},
     "output_type": "execute_result"
    }
   ],
   "source": [
    "# P and P.T are equal again.\n",
    "np.all(P.T == P)"
   ]
  },
  {
   "cell_type": "code",
   "execution_count": 40,
   "id": "80225860",
   "metadata": {},
   "outputs": [
    {
     "name": "stdout",
     "output_type": "stream",
     "text": [
      "0 1 0\n",
      "0 0 1\n",
      "1 0 0\n",
      "\n"
     ]
    }
   ],
   "source": [
    "# Let's look at a P that is not equal to it's own transpose.\n",
    "P = I[[1, 2, 0]]\n",
    "matrix_print(P)"
   ]
  },
  {
   "cell_type": "code",
   "execution_count": 41,
   "id": "fb67f1f7",
   "metadata": {},
   "outputs": [
    {
     "data": {
      "text/plain": [
       "False"
      ]
     },
     "execution_count": 41,
     "metadata": {},
     "output_type": "execute_result"
    }
   ],
   "source": [
    "# Not equal.\n",
    "np.all(P == P.T)"
   ]
  },
  {
   "cell_type": "code",
   "execution_count": 42,
   "id": "78635317",
   "metadata": {},
   "outputs": [
    {
     "name": "stdout",
     "output_type": "stream",
     "text": [
      "3 1 2\n",
      "6 4 5\n",
      "9 7 8\n",
      "\n"
     ]
    }
   ],
   "source": [
    "# Permute the columns.\n",
    "# Note the columns move forwards - towards the right.\n",
    "matrix_print(A @ P)"
   ]
  },
  {
   "cell_type": "code",
   "execution_count": 43,
   "id": "1a7f896d",
   "metadata": {},
   "outputs": [
    {
     "name": "stdout",
     "output_type": "stream",
     "text": [
      "2 3 1\n",
      "5 6 4\n",
      "8 9 7\n",
      "\n"
     ]
    }
   ],
   "source": [
    "# Permute the columns with P.T.\n",
    "# Note the columns move backwards - towards the left.\n",
    "matrix_print(A @ P.T)"
   ]
  },
  {
   "cell_type": "code",
   "execution_count": 44,
   "id": "f47a2d5f",
   "metadata": {},
   "outputs": [
    {
     "name": "stdout",
     "output_type": "stream",
     "text": [
      "0 1 0\n",
      "0 0 1\n",
      "1 0 0\n",
      "\n"
     ]
    }
   ],
   "source": [
    "# Here's P for reference.\n",
    "matrix_print(P)"
   ]
  },
  {
   "cell_type": "code",
   "execution_count": 45,
   "id": "bd82ab7c",
   "metadata": {},
   "outputs": [
    {
     "name": "stdout",
     "output_type": "stream",
     "text": [
      "0 0 1\n",
      "1 0 0\n",
      "0 1 0\n",
      "\n"
     ]
    }
   ],
   "source": [
    "# Here's its transpose.\n",
    "matrix_print(P.T)"
   ]
  },
  {
   "cell_type": "code",
   "execution_count": 46,
   "id": "07de99ba",
   "metadata": {},
   "outputs": [
    {
     "name": "stdout",
     "output_type": "stream",
     "text": [
      "1 2 3\n",
      "4 5 6\n",
      "7 8 9\n",
      "\n"
     ]
    }
   ],
   "source": [
    "# Here's A again for reference.\n",
    "matrix_print(A)"
   ]
  },
  {
   "cell_type": "code",
   "execution_count": 47,
   "id": "8298c8bb",
   "metadata": {},
   "outputs": [
    {
     "name": "stdout",
     "output_type": "stream",
     "text": [
      "4 5 6\n",
      "7 8 9\n",
      "1 2 3\n",
      "\n"
     ]
    }
   ],
   "source": [
    "# Permute the rows of A.\n",
    "# Notice they move backwards - towards the top of the matrix.\n",
    "matrix_print(P @ A)"
   ]
  },
  {
   "cell_type": "code",
   "execution_count": 48,
   "id": "099e570f",
   "metadata": {},
   "outputs": [
    {
     "name": "stdout",
     "output_type": "stream",
     "text": [
      "7 8 9\n",
      "1 2 3\n",
      "4 5 6\n",
      "\n"
     ]
    }
   ],
   "source": [
    "# To get the equivalent row permutation as column permutation, you need P transpose.\n",
    "# Note by equivalent I mean the rows/columns moving forwards, where forward\n",
    "# means down for rows and right for columns.\n",
    "matrix_print(P.T @ A)"
   ]
  },
  {
   "cell_type": "markdown",
   "id": "039b810a",
   "metadata": {},
   "source": [
    "<h1>Permutation Matrices</h1>"
   ]
  },
  {
   "cell_type": "code",
   "execution_count": 49,
   "id": "03f74612",
   "metadata": {},
   "outputs": [],
   "source": [
    "# Number of objects to permute.\n",
    "N = 3"
   ]
  },
  {
   "cell_type": "code",
   "execution_count": 50,
   "id": "5b17c971",
   "metadata": {},
   "outputs": [
    {
     "name": "stdout",
     "output_type": "stream",
     "text": [
      "1 0 0\n",
      "0 1 0\n",
      "0 0 1\n",
      "\n"
     ]
    }
   ],
   "source": [
    "# Identity matrix.\n",
    "I = np.identity(N, dtype=np.uint8)\n",
    "matrix_print(I)"
   ]
  },
  {
   "cell_type": "code",
   "execution_count": 51,
   "id": "2ac3987d",
   "metadata": {},
   "outputs": [
    {
     "name": "stdout",
     "output_type": "stream",
     "text": [
      "1 0 0\n",
      "0 1 0\n",
      "0 0 1\n",
      "\n",
      "1 0 0\n",
      "0 0 1\n",
      "0 1 0\n",
      "\n",
      "0 1 0\n",
      "1 0 0\n",
      "0 0 1\n",
      "\n",
      "0 1 0\n",
      "0 0 1\n",
      "1 0 0\n",
      "\n",
      "0 0 1\n",
      "1 0 0\n",
      "0 1 0\n",
      "\n",
      "0 0 1\n",
      "0 1 0\n",
      "1 0 0\n",
      "\n"
     ]
    }
   ],
   "source": [
    "# Permutations of rows of I.\n",
    "perms = it.permutations(range(N))\n",
    "# Print I with rows permuted by p.\n",
    "for p in perms:\n",
    "  # Permutation matrix - using numpy indexing.\n",
    "  Pmat = I[list(p)]\n",
    "  matrix_print(Pmat)"
   ]
  },
  {
   "cell_type": "code",
   "execution_count": 52,
   "id": "3ddcf13a",
   "metadata": {},
   "outputs": [
    {
     "data": {
      "text/plain": [
       "array([1, 2, 3], dtype=uint8)"
      ]
     },
     "execution_count": 52,
     "metadata": {},
     "output_type": "execute_result"
    }
   ],
   "source": [
    "# List of items in numpy matrix.\n",
    "L = np.array(range(1, N+1), dtype=np.uint8)\n",
    "L"
   ]
  },
  {
   "cell_type": "code",
   "execution_count": 53,
   "id": "ebea7229",
   "metadata": {},
   "outputs": [
    {
     "name": "stdout",
     "output_type": "stream",
     "text": [
      "[1 2 3]\n",
      "[1 3 2]\n",
      "[2 1 3]\n",
      "[3 1 2]\n",
      "[2 3 1]\n",
      "[3 2 1]\n"
     ]
    }
   ],
   "source": [
    "# Permutations of rows of I.\n",
    "perms = it.permutations(range(N))\n",
    "# Print L permuted by permutation matrices.\n",
    "for p in perms:\n",
    "  # Permutation matrix - using numpy indexing.\n",
    "  Pmat = I[list(p)]\n",
    "  # L permuted by Pmat.\n",
    "  Lp = L @ Pmat\n",
    "  # Print.\n",
    "  print(Lp)"
   ]
  },
  {
   "cell_type": "code",
   "execution_count": 54,
   "id": "d17220ac",
   "metadata": {},
   "outputs": [
    {
     "name": "stdout",
     "output_type": "stream",
     "text": [
      "1 2 3\n",
      "4 5 6\n",
      "7 8 9\n",
      "\n"
     ]
    }
   ],
   "source": [
    "# Here is a 3x3 version of A.\n",
    "A = np.array([[1, 2, 3], [4, 5, 6], [7, 8, 9]], dtype=np.uint8)\n",
    "matrix_print(A)"
   ]
  },
  {
   "cell_type": "code",
   "execution_count": 55,
   "id": "bfa19aa0",
   "metadata": {},
   "outputs": [
    {
     "name": "stdout",
     "output_type": "stream",
     "text": [
      "1 2 3\n",
      "4 5 6\n",
      "7 8 9\n",
      "\n",
      "1 3 2\n",
      "7 9 8\n",
      "4 6 5\n",
      "\n",
      "5 4 6\n",
      "2 1 3\n",
      "8 7 9\n",
      "\n",
      "5 6 4\n",
      "8 9 7\n",
      "2 3 1\n",
      "\n",
      "9 7 8\n",
      "3 1 2\n",
      "6 4 5\n",
      "\n",
      "9 8 7\n",
      "6 5 4\n",
      "3 2 1\n",
      "\n"
     ]
    }
   ],
   "source": [
    "# Permutations of rows of I.\n",
    "perms = it.permutations(range(N))\n",
    "# Print A permuted by permutation matrices.\n",
    "for p in perms:\n",
    "  # Permutation matrix - using numpy indexing.\n",
    "  Pmat = I[list(p)]\n",
    "  # L permuted by Pmat.\n",
    "  Ap = Pmat @ A @ Pmat.T\n",
    "  # Print.\n",
    "  matrix_print(Ap)"
   ]
  },
  {
   "cell_type": "code",
   "execution_count": 56,
   "id": "935d8877",
   "metadata": {},
   "outputs": [
    {
     "data": {
      "image/png": "[encoded data removed]",
      "text/plain": [
       "<Figure size 432x432 with 1 Axes>"
      ]
     },
     "metadata": {},
     "output_type": "display_data"
    }
   ],
   "source": [
    "# Let's try a graph that's not so symmetrical.\n",
    "G = nx.Graph()\n",
    "E = ((0, 1), (1, 2))\n",
    "G.add_edges_from(E)\n",
    "nx.draw_circular(G, **params)"
   ]
  },
  {
   "cell_type": "code",
   "execution_count": 57,
   "id": "60ca0c44",
   "metadata": {},
   "outputs": [
    {
     "name": "stdout",
     "output_type": "stream",
     "text": [
      "0 1 0\n",
      "1 0 1\n",
      "0 1 0\n",
      "\n"
     ]
    }
   ],
   "source": [
    "# Adjacency matrix.\n",
    "A = nx.to_numpy_array(G).astype(np.uint8)\n",
    "matrix_print(A)"
   ]
  },
  {
   "cell_type": "code",
   "execution_count": 58,
   "id": "1b32640d",
   "metadata": {},
   "outputs": [
    {
     "name": "stdout",
     "output_type": "stream",
     "text": [
      "0 1 0\n",
      "1 0 1\n",
      "0 1 0\n",
      "\n",
      "0 0 1\n",
      "0 0 1\n",
      "1 1 0\n",
      "\n",
      "0 1 1\n",
      "1 0 0\n",
      "1 0 0\n",
      "\n",
      "0 1 1\n",
      "1 0 0\n",
      "1 0 0\n",
      "\n",
      "0 0 1\n",
      "0 0 1\n",
      "1 1 0\n",
      "\n",
      "0 1 0\n",
      "1 0 1\n",
      "0 1 0\n",
      "\n"
     ]
    }
   ],
   "source": [
    "# Permutations of rows of I.\n",
    "perms = it.permutations(range(N))\n",
    "# Print A permuted by permutation matrices.\n",
    "for p in perms:\n",
    "  # Permutation matrix - using numpy indexing.\n",
    "  Pmat = I[list(p)]\n",
    "  # L permuted by Pmat.\n",
    "  Ap = Pmat @ A @ Pmat.T\n",
    "  # Print.\n",
    "  matrix_print(Ap)"
   ]
  },
  {
   "cell_type": "markdown",
   "id": "24858d23",
   "metadata": {},
   "source": [
    "<h1>permuting vertices</h1>"
   ]
  },
  {
   "cell_type": "code",
   "execution_count": 59,
   "id": "6643fe24",
   "metadata": {},
   "outputs": [],
   "source": [
    "# Create an empty graph.\n",
    "G = nx.Graph()"
   ]
  },
  {
   "cell_type": "code",
   "execution_count": 60,
   "id": "a804f664",
   "metadata": {},
   "outputs": [],
   "source": [
    "# Create a set of edges.\n",
    "E = ((0, 1), (1, 2), (1, 3), (2, 3))"
   ]
  },
  {
   "cell_type": "code",
   "execution_count": 61,
   "id": "ee6a9cff",
   "metadata": {},
   "outputs": [],
   "source": [
    "# Incorporate the edges in G.\n",
    "G.add_edges_from(E)"
   ]
  },
  {
   "cell_type": "code",
   "execution_count": 62,
   "id": "2f64d296",
   "metadata": {},
   "outputs": [
    {
     "data": {
      "image/png": "[encoded data removed]",
      "text/plain": [
       "<Figure size 432x432 with 1 Axes>"
      ]
     },
     "metadata": {},
     "output_type": "display_data"
    }
   ],
   "source": [
    "# Draw the graph.\n",
    "nx.draw_circular(G, **params)"
   ]
  },
  {
   "cell_type": "code",
   "execution_count": 63,
   "id": "1c9dd5e0",
   "metadata": {},
   "outputs": [
    {
     "name": "stdout",
     "output_type": "stream",
     "text": [
      "0 1 0 0\n",
      "1 0 1 1\n",
      "0 1 0 1\n",
      "0 1 1 0\n",
      "\n"
     ]
    }
   ],
   "source": [
    "# Adjacency matrix.\n",
    "A = nx.to_numpy_array(G).astype(np.uint8)\n",
    "matrix_print(A)"
   ]
  },
  {
   "cell_type": "code",
   "execution_count": 64,
   "id": "5c7059de",
   "metadata": {},
   "outputs": [
    {
     "name": "stdout",
     "output_type": "stream",
     "text": [
      "1 0 0 0\n",
      "0 0 0 1\n",
      "0 0 1 0\n",
      "0 1 0 0\n",
      "\n"
     ]
    }
   ],
   "source": [
    "# Permutation: 0->0, 1->3, 2->2, 3->1.\n",
    "p = [0, 3, 2, 1]\n",
    "# Identity matrix.\n",
    "I = np.identity(4, np.uint8)\n",
    "# Permutation matrix.\n",
    "P = I[p]\n",
    "# Print.\n",
    "matrix_print(P)"
   ]
  },
  {
   "cell_type": "code",
   "execution_count": 65,
   "id": "3db05f6a",
   "metadata": {},
   "outputs": [
    {
     "name": "stdout",
     "output_type": "stream",
     "text": [
      "0 0 0 1\n",
      "0 0 1 1\n",
      "0 1 0 1\n",
      "1 1 1 0\n",
      "\n"
     ]
    }
   ],
   "source": [
    "# Permute A.\n",
    "A_P = P @ A @ P.T\n",
    "matrix_print(A_P)"
   ]
  },
  {
   "cell_type": "code",
   "execution_count": 66,
   "id": "8c6a360a",
   "metadata": {},
   "outputs": [],
   "source": [
    "# Create new graph from new adjacency matrix.\n",
    "G_P = nx.from_numpy_matrix(A_P)"
   ]
  },
  {
   "cell_type": "code",
   "execution_count": 67,
   "id": "a02a1c66",
   "metadata": {},
   "outputs": [
    {
     "data": {
      "image/png": "[encoded data removed]",
      "text/plain": [
       "<Figure size 432x432 with 1 Axes>"
      ]
     },
     "metadata": {},
     "output_type": "display_data"
    }
   ],
   "source": [
    "# Draw it.\n",
    "nx.draw_circular(G_P, **params)"
   ]
  },
  {
   "cell_type": "code",
   "execution_count": 68,
   "id": "9a2acbfe",
   "metadata": {},
   "outputs": [
    {
     "name": "stdout",
     "output_type": "stream",
     "text": [
      "0 1 0 0\n",
      "1 0 0 0\n",
      "0 0 1 0\n",
      "0 0 0 1\n",
      "\n"
     ]
    }
   ],
   "source": [
    "# Another permutation: 0->1, 1->0, 2->2, 3->3.\n",
    "p = [1, 0, 2, 3]\n",
    "# Identity matrix.\n",
    "I = np.identity(4, np.uint8)\n",
    "# Permutation matrix.\n",
    "P = I[p]\n",
    "# Print.\n",
    "matrix_print(P)"
   ]
  },
  {
   "cell_type": "code",
   "execution_count": 69,
   "id": "677dc260",
   "metadata": {},
   "outputs": [
    {
     "name": "stdout",
     "output_type": "stream",
     "text": [
      "0 1 1 1\n",
      "1 0 0 0\n",
      "1 0 0 1\n",
      "1 0 1 0\n",
      "\n"
     ]
    }
   ],
   "source": [
    "# Permute A.\n",
    "A_P = P @ A @ P.T\n",
    "matrix_print(A_P)"
   ]
  },
  {
   "cell_type": "code",
   "execution_count": 70,
   "id": "8c91bfd0",
   "metadata": {},
   "outputs": [],
   "source": [
    "# Create new graph from new adjacency matrix.\n",
    "G_P = nx.from_numpy_matrix(A_P)"
   ]
  },
  {
   "cell_type": "code",
   "execution_count": 71,
   "id": "79b8da2d",
   "metadata": {},
   "outputs": [
    {
     "data": {
      "image/png": "[encoded data removed]",
      "text/plain": [
       "<Figure size 432x432 with 1 Axes>"
      ]
     },
     "metadata": {},
     "output_type": "display_data"
    }
   ],
   "source": [
    "# Draw it.\n",
    "nx.draw_circular(G_P, **params)"
   ]
  },
  {
   "cell_type": "code",
   "execution_count": 72,
   "id": "4f768d4f",
   "metadata": {},
   "outputs": [
    {
     "data": {
      "image/png": "[encoded data removed]",
      "text/plain": [
       "<Figure size 432x432 with 1 Axes>"
      ]
     },
     "metadata": {},
     "output_type": "display_data"
    }
   ],
   "source": [
    "# Original graph.\n",
    "nx.draw_circular(G, **params)"
   ]
  },
  {
   "cell_type": "markdown",
   "id": "450b71f1",
   "metadata": {},
   "source": [
    "<h1>A Trickier Graph</h1>"
   ]
  },
  {
   "cell_type": "code",
   "execution_count": 73,
   "id": "5eb734ca",
   "metadata": {},
   "outputs": [],
   "source": [
    "# The Peterson graph.\n",
    "G = nx.petersen_graph()"
   ]
  },
  {
   "cell_type": "code",
   "execution_count": 74,
   "id": "c5a937d1",
   "metadata": {},
   "outputs": [
    {
     "data": {
      "image/png": "[encoded data removed]",
      "text/plain": [
       "<Figure size 432x432 with 1 Axes>"
      ]
     },
     "metadata": {},
     "output_type": "display_data"
    }
   ],
   "source": [
    "# As it is usually drawn (or close enough).\n",
    "pos = nx.shell_layout(G, nlist=[[5,6,7,8,9], [0,1,2,3,4]], rotate=0, center=(2,2))\n",
    "nx.draw(G, pos=pos, **params)"
   ]
  },
  {
   "cell_type": "code",
   "execution_count": 75,
   "id": "dfd19d4d",
   "metadata": {},
   "outputs": [
    {
     "data": {
      "image/png": "[encoded data removed]",
      "text/plain": [
       "<Figure size 432x432 with 1 Axes>"
      ]
     },
     "metadata": {},
     "output_type": "display_data"
    }
   ],
   "source": [
    "# Does this look like the same graph?\n",
    "nx.draw_shell(G, nlist=[range(5, 10), range(0, 5)], **params)"
   ]
  },
  {
   "cell_type": "code",
   "execution_count": 76,
   "id": "71279c20",
   "metadata": {},
   "outputs": [
    {
     "data": {
      "image/png": "[encoded data removed]",
      "text/plain": [
       "<Figure size 432x432 with 1 Axes>"
      ]
     },
     "metadata": {},
     "output_type": "display_data"
    }
   ],
   "source": [
    "# Does this look like the same graph?\n",
    "nx.draw_shell(G, **params)"
   ]
  },
  {
   "cell_type": "code",
   "execution_count": 77,
   "id": "bb463874",
   "metadata": {},
   "outputs": [
    {
     "data": {
      "image/png": "[encoded data removed]",
      "text/plain": [
       "<Figure size 432x432 with 1 Axes>"
      ]
     },
     "metadata": {},
     "output_type": "display_data"
    }
   ],
   "source": [
    "# Does this look like the same graph?\n",
    "nx.draw_kamada_kawai(G,  **params)"
   ]
  },
  {
   "cell_type": "markdown",
   "id": "5373f4ed",
   "metadata": {},
   "source": [
    "<h1>END</h1>"
   ]
  }
 ],
 "metadata": {
  "kernelspec": {
   "display_name": "Python 3 (ipykernel)",
   "language": "python",
   "name": "python3"
  },
  "language_info": {
   "codemirror_mode": {
    "name": "ipython",
    "version": 3
   },
   "file_extension": ".py",
   "mimetype": "text/x-python",
   "name": "python",
   "nbconvert_exporter": "python",
   "pygments_lexer": "ipython3",
   "version": "3.9.7"
  }
 },
 "nbformat": 4,
 "nbformat_minor": 5
}
